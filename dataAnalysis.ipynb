{
 "cells": [
  {
   "cell_type": "code",
   "execution_count": 167,
   "metadata": {},
   "outputs": [],
   "source": [
    "import pandas as pd\n",
    "import matplotlib.pyplot as plt\n",
    "import numpy as np"
   ]
  },
  {
   "cell_type": "markdown",
   "metadata": {},
   "source": [
    "descritions for data\n",
    "\n",
    "https://ffiec.cfpb.gov/documentation/2018/lar-data-fields/"
   ]
  },
  {
   "cell_type": "code",
   "execution_count": 168,
   "metadata": {},
   "outputs": [],
   "source": [
    "df = pd.read_csv('state_VA.csv', low_memory = False)\n",
    "# drop columns that are same for all entries\n",
    "df.drop('state_code',axis = 1,inplace = True)\n",
    "df.drop('activity_year',axis = 1,inplace = True)"
   ]
  },
  {
   "cell_type": "code",
   "execution_count": 169,
   "metadata": {},
   "outputs": [
    {
     "name": "stdout",
     "output_type": "stream",
     "text": [
      "(822454, 59)\n",
      "(737770, 59)\n"
     ]
    }
   ],
   "source": [
    "#drop columns that have more then 90% missing values\n",
    "drop_thresh = df.shape[0]*.9\n",
    "df = df.dropna(thresh=drop_thresh, how='all', axis='columns').copy()\n",
    "print(df.shape)\n",
    "# then remove rows that have empty values\n",
    "df = df.dropna()\n",
    "print(df.shape)"
   ]
  },
  {
   "cell_type": "markdown",
   "metadata": {},
   "source": [
    "Response is action_taken\n",
    "1 - Loan originated\n",
    "2 - Application approved but not accepted\n",
    "3 - Application denied\n",
    "4 - Application withdrawn by applicant\n",
    "5 - File closed for incompleteness\n",
    "6 - Purchased loan\n",
    "7 - Preapproval request denied\n",
    "8 - Preapproval request approved but not accepted"
   ]
  },
  {
   "cell_type": "code",
   "execution_count": 170,
   "metadata": {},
   "outputs": [
    {
     "data": {
      "text/html": [
       "<div>\n",
       "<style scoped>\n",
       "    .dataframe tbody tr th:only-of-type {\n",
       "        vertical-align: middle;\n",
       "    }\n",
       "\n",
       "    .dataframe tbody tr th {\n",
       "        vertical-align: top;\n",
       "    }\n",
       "\n",
       "    .dataframe thead th {\n",
       "        text-align: right;\n",
       "    }\n",
       "</style>\n",
       "<table border=\"1\" class=\"dataframe\">\n",
       "  <thead>\n",
       "    <tr style=\"text-align: right;\">\n",
       "      <th></th>\n",
       "      <th>derived_msa-md</th>\n",
       "      <th>county_code</th>\n",
       "      <th>census_tract</th>\n",
       "      <th>action_taken</th>\n",
       "      <th>purchaser_type</th>\n",
       "      <th>preapproval</th>\n",
       "      <th>loan_type</th>\n",
       "      <th>loan_purpose</th>\n",
       "      <th>lien_status</th>\n",
       "      <th>reverse_mortgage</th>\n",
       "      <th>...</th>\n",
       "      <th>initially_payable_to_institution</th>\n",
       "      <th>aus-1</th>\n",
       "      <th>denial_reason-1</th>\n",
       "      <th>tract_population</th>\n",
       "      <th>tract_minority_population_percent</th>\n",
       "      <th>ffiec_msa_md_median_family_income</th>\n",
       "      <th>tract_to_msa_income_percentage</th>\n",
       "      <th>tract_owner_occupied_units</th>\n",
       "      <th>tract_one_to_four_family_homes</th>\n",
       "      <th>tract_median_age_of_housing_units</th>\n",
       "    </tr>\n",
       "  </thead>\n",
       "  <tbody>\n",
       "    <tr>\n",
       "      <th>count</th>\n",
       "      <td>737770.000000</td>\n",
       "      <td>737770.000000</td>\n",
       "      <td>7.377700e+05</td>\n",
       "      <td>737770.000000</td>\n",
       "      <td>737770.000000</td>\n",
       "      <td>737770.000000</td>\n",
       "      <td>737770.000000</td>\n",
       "      <td>737770.000000</td>\n",
       "      <td>737770.000000</td>\n",
       "      <td>737770.000000</td>\n",
       "      <td>...</td>\n",
       "      <td>737770.000000</td>\n",
       "      <td>737770.000000</td>\n",
       "      <td>737770.000000</td>\n",
       "      <td>737770.000000</td>\n",
       "      <td>737770.000000</td>\n",
       "      <td>737770.000000</td>\n",
       "      <td>737770.000000</td>\n",
       "      <td>737770.000000</td>\n",
       "      <td>737770.000000</td>\n",
       "      <td>737770.000000</td>\n",
       "    </tr>\n",
       "    <tr>\n",
       "      <th>mean</th>\n",
       "      <td>48281.651219</td>\n",
       "      <td>51243.265286</td>\n",
       "      <td>5.124358e+10</td>\n",
       "      <td>2.111516</td>\n",
       "      <td>6.952446</td>\n",
       "      <td>1.993834</td>\n",
       "      <td>1.501056</td>\n",
       "      <td>20.763277</td>\n",
       "      <td>1.065531</td>\n",
       "      <td>12.386963</td>\n",
       "      <td>...</td>\n",
       "      <td>11.764372</td>\n",
       "      <td>13.717061</td>\n",
       "      <td>16.856874</td>\n",
       "      <td>5401.164746</td>\n",
       "      <td>34.704131</td>\n",
       "      <td>96618.568389</td>\n",
       "      <td>119.123599</td>\n",
       "      <td>1418.311353</td>\n",
       "      <td>1814.968637</td>\n",
       "      <td>31.467203</td>\n",
       "    </tr>\n",
       "    <tr>\n",
       "      <th>std</th>\n",
       "      <td>15602.163689</td>\n",
       "      <td>269.886997</td>\n",
       "      <td>2.697734e+08</td>\n",
       "      <td>1.590461</td>\n",
       "      <td>18.883489</td>\n",
       "      <td>0.078281</td>\n",
       "      <td>0.832933</td>\n",
       "      <td>14.239551</td>\n",
       "      <td>0.247461</td>\n",
       "      <td>106.823541</td>\n",
       "      <td>...</td>\n",
       "      <td>107.717893</td>\n",
       "      <td>107.548851</td>\n",
       "      <td>90.292359</td>\n",
       "      <td>2005.184348</td>\n",
       "      <td>20.467104</td>\n",
       "      <td>21647.070353</td>\n",
       "      <td>37.803906</td>\n",
       "      <td>599.113072</td>\n",
       "      <td>752.482831</td>\n",
       "      <td>14.964354</td>\n",
       "    </tr>\n",
       "    <tr>\n",
       "      <th>min</th>\n",
       "      <td>13980.000000</td>\n",
       "      <td>51001.000000</td>\n",
       "      <td>5.100109e+10</td>\n",
       "      <td>1.000000</td>\n",
       "      <td>0.000000</td>\n",
       "      <td>1.000000</td>\n",
       "      <td>1.000000</td>\n",
       "      <td>1.000000</td>\n",
       "      <td>1.000000</td>\n",
       "      <td>2.000000</td>\n",
       "      <td>...</td>\n",
       "      <td>1.000000</td>\n",
       "      <td>1.000000</td>\n",
       "      <td>1.000000</td>\n",
       "      <td>0.000000</td>\n",
       "      <td>0.000000</td>\n",
       "      <td>58100.000000</td>\n",
       "      <td>0.000000</td>\n",
       "      <td>0.000000</td>\n",
       "      <td>0.000000</td>\n",
       "      <td>0.000000</td>\n",
       "    </tr>\n",
       "    <tr>\n",
       "      <th>25%</th>\n",
       "      <td>44420.000000</td>\n",
       "      <td>51059.000000</td>\n",
       "      <td>5.105948e+10</td>\n",
       "      <td>1.000000</td>\n",
       "      <td>0.000000</td>\n",
       "      <td>2.000000</td>\n",
       "      <td>1.000000</td>\n",
       "      <td>1.000000</td>\n",
       "      <td>1.000000</td>\n",
       "      <td>2.000000</td>\n",
       "      <td>...</td>\n",
       "      <td>1.000000</td>\n",
       "      <td>1.000000</td>\n",
       "      <td>10.000000</td>\n",
       "      <td>3950.000000</td>\n",
       "      <td>17.880000</td>\n",
       "      <td>78800.000000</td>\n",
       "      <td>92.000000</td>\n",
       "      <td>1008.000000</td>\n",
       "      <td>1316.000000</td>\n",
       "      <td>21.000000</td>\n",
       "    </tr>\n",
       "    <tr>\n",
       "      <th>50%</th>\n",
       "      <td>47894.000000</td>\n",
       "      <td>51107.000000</td>\n",
       "      <td>5.110761e+10</td>\n",
       "      <td>1.000000</td>\n",
       "      <td>1.000000</td>\n",
       "      <td>2.000000</td>\n",
       "      <td>1.000000</td>\n",
       "      <td>31.000000</td>\n",
       "      <td>1.000000</td>\n",
       "      <td>2.000000</td>\n",
       "      <td>...</td>\n",
       "      <td>1.000000</td>\n",
       "      <td>2.000000</td>\n",
       "      <td>10.000000</td>\n",
       "      <td>5280.000000</td>\n",
       "      <td>32.070000</td>\n",
       "      <td>84900.000000</td>\n",
       "      <td>116.000000</td>\n",
       "      <td>1360.000000</td>\n",
       "      <td>1744.000000</td>\n",
       "      <td>30.000000</td>\n",
       "    </tr>\n",
       "    <tr>\n",
       "      <th>75%</th>\n",
       "      <td>47894.000000</td>\n",
       "      <td>51199.000000</td>\n",
       "      <td>5.119905e+10</td>\n",
       "      <td>3.000000</td>\n",
       "      <td>3.000000</td>\n",
       "      <td>2.000000</td>\n",
       "      <td>2.000000</td>\n",
       "      <td>31.000000</td>\n",
       "      <td>1.000000</td>\n",
       "      <td>2.000000</td>\n",
       "      <td>...</td>\n",
       "      <td>1.000000</td>\n",
       "      <td>6.000000</td>\n",
       "      <td>10.000000</td>\n",
       "      <td>6618.000000</td>\n",
       "      <td>47.880000</td>\n",
       "      <td>118700.000000</td>\n",
       "      <td>143.000000</td>\n",
       "      <td>1781.000000</td>\n",
       "      <td>2236.000000</td>\n",
       "      <td>40.000000</td>\n",
       "    </tr>\n",
       "    <tr>\n",
       "      <th>max</th>\n",
       "      <td>99999.000000</td>\n",
       "      <td>51840.000000</td>\n",
       "      <td>5.184000e+10</td>\n",
       "      <td>8.000000</td>\n",
       "      <td>72.000000</td>\n",
       "      <td>2.000000</td>\n",
       "      <td>4.000000</td>\n",
       "      <td>32.000000</td>\n",
       "      <td>2.000000</td>\n",
       "      <td>1111.000000</td>\n",
       "      <td>...</td>\n",
       "      <td>1111.000000</td>\n",
       "      <td>1111.000000</td>\n",
       "      <td>1111.000000</td>\n",
       "      <td>15068.000000</td>\n",
       "      <td>100.000000</td>\n",
       "      <td>118700.000000</td>\n",
       "      <td>315.000000</td>\n",
       "      <td>3985.000000</td>\n",
       "      <td>4881.000000</td>\n",
       "      <td>76.000000</td>\n",
       "    </tr>\n",
       "  </tbody>\n",
       "</table>\n",
       "<p>8 rows × 47 columns</p>\n",
       "</div>"
      ],
      "text/plain": [
       "       derived_msa-md    county_code  census_tract   action_taken  \\\n",
       "count   737770.000000  737770.000000  7.377700e+05  737770.000000   \n",
       "mean     48281.651219   51243.265286  5.124358e+10       2.111516   \n",
       "std      15602.163689     269.886997  2.697734e+08       1.590461   \n",
       "min      13980.000000   51001.000000  5.100109e+10       1.000000   \n",
       "25%      44420.000000   51059.000000  5.105948e+10       1.000000   \n",
       "50%      47894.000000   51107.000000  5.110761e+10       1.000000   \n",
       "75%      47894.000000   51199.000000  5.119905e+10       3.000000   \n",
       "max      99999.000000   51840.000000  5.184000e+10       8.000000   \n",
       "\n",
       "       purchaser_type    preapproval      loan_type   loan_purpose  \\\n",
       "count   737770.000000  737770.000000  737770.000000  737770.000000   \n",
       "mean         6.952446       1.993834       1.501056      20.763277   \n",
       "std         18.883489       0.078281       0.832933      14.239551   \n",
       "min          0.000000       1.000000       1.000000       1.000000   \n",
       "25%          0.000000       2.000000       1.000000       1.000000   \n",
       "50%          1.000000       2.000000       1.000000      31.000000   \n",
       "75%          3.000000       2.000000       2.000000      31.000000   \n",
       "max         72.000000       2.000000       4.000000      32.000000   \n",
       "\n",
       "         lien_status  reverse_mortgage  ...  initially_payable_to_institution  \\\n",
       "count  737770.000000     737770.000000  ...                     737770.000000   \n",
       "mean        1.065531         12.386963  ...                         11.764372   \n",
       "std         0.247461        106.823541  ...                        107.717893   \n",
       "min         1.000000          2.000000  ...                          1.000000   \n",
       "25%         1.000000          2.000000  ...                          1.000000   \n",
       "50%         1.000000          2.000000  ...                          1.000000   \n",
       "75%         1.000000          2.000000  ...                          1.000000   \n",
       "max         2.000000       1111.000000  ...                       1111.000000   \n",
       "\n",
       "               aus-1  denial_reason-1  tract_population  \\\n",
       "count  737770.000000    737770.000000     737770.000000   \n",
       "mean       13.717061        16.856874       5401.164746   \n",
       "std       107.548851        90.292359       2005.184348   \n",
       "min         1.000000         1.000000          0.000000   \n",
       "25%         1.000000        10.000000       3950.000000   \n",
       "50%         2.000000        10.000000       5280.000000   \n",
       "75%         6.000000        10.000000       6618.000000   \n",
       "max      1111.000000      1111.000000      15068.000000   \n",
       "\n",
       "       tract_minority_population_percent  ffiec_msa_md_median_family_income  \\\n",
       "count                      737770.000000                      737770.000000   \n",
       "mean                           34.704131                       96618.568389   \n",
       "std                            20.467104                       21647.070353   \n",
       "min                             0.000000                       58100.000000   \n",
       "25%                            17.880000                       78800.000000   \n",
       "50%                            32.070000                       84900.000000   \n",
       "75%                            47.880000                      118700.000000   \n",
       "max                           100.000000                      118700.000000   \n",
       "\n",
       "       tract_to_msa_income_percentage  tract_owner_occupied_units  \\\n",
       "count                   737770.000000               737770.000000   \n",
       "mean                       119.123599                 1418.311353   \n",
       "std                         37.803906                  599.113072   \n",
       "min                          0.000000                    0.000000   \n",
       "25%                         92.000000                 1008.000000   \n",
       "50%                        116.000000                 1360.000000   \n",
       "75%                        143.000000                 1781.000000   \n",
       "max                        315.000000                 3985.000000   \n",
       "\n",
       "       tract_one_to_four_family_homes  tract_median_age_of_housing_units  \n",
       "count                   737770.000000                      737770.000000  \n",
       "mean                      1814.968637                          31.467203  \n",
       "std                        752.482831                          14.964354  \n",
       "min                          0.000000                           0.000000  \n",
       "25%                       1316.000000                          21.000000  \n",
       "50%                       1744.000000                          30.000000  \n",
       "75%                       2236.000000                          40.000000  \n",
       "max                       4881.000000                          76.000000  \n",
       "\n",
       "[8 rows x 47 columns]"
      ]
     },
     "execution_count": 170,
     "metadata": {},
     "output_type": "execute_result"
    }
   ],
   "source": [
    "df.describe()"
   ]
  },
  {
   "cell_type": "code",
   "execution_count": 171,
   "metadata": {},
   "outputs": [
    {
     "name": "stdout",
     "output_type": "stream",
     "text": [
      "<class 'pandas.core.frame.DataFrame'>\n",
      "Int64Index: 737770 entries, 0 to 822453\n",
      "Data columns (total 59 columns):\n",
      " #   Column                                    Non-Null Count   Dtype  \n",
      "---  ------                                    --------------   -----  \n",
      " 0   lei                                       737770 non-null  object \n",
      " 1   derived_msa-md                            737770 non-null  int64  \n",
      " 2   county_code                               737770 non-null  float64\n",
      " 3   census_tract                              737770 non-null  float64\n",
      " 4   conforming_loan_limit                     737770 non-null  object \n",
      " 5   derived_loan_product_type                 737770 non-null  object \n",
      " 6   derived_dwelling_category                 737770 non-null  object \n",
      " 7   derived_ethnicity                         737770 non-null  object \n",
      " 8   derived_race                              737770 non-null  object \n",
      " 9   derived_sex                               737770 non-null  object \n",
      " 10  action_taken                              737770 non-null  int64  \n",
      " 11  purchaser_type                            737770 non-null  int64  \n",
      " 12  preapproval                               737770 non-null  int64  \n",
      " 13  loan_type                                 737770 non-null  int64  \n",
      " 14  loan_purpose                              737770 non-null  int64  \n",
      " 15  lien_status                               737770 non-null  int64  \n",
      " 16  reverse_mortgage                          737770 non-null  int64  \n",
      " 17  open-end_line_of_credit                   737770 non-null  int64  \n",
      " 18  business_or_commercial_purpose            737770 non-null  int64  \n",
      " 19  loan_amount                               737770 non-null  float64\n",
      " 20  hoepa_status                              737770 non-null  int64  \n",
      " 21  loan_term                                 737770 non-null  object \n",
      " 22  negative_amortization                     737770 non-null  int64  \n",
      " 23  interest_only_payment                     737770 non-null  int64  \n",
      " 24  balloon_payment                           737770 non-null  int64  \n",
      " 25  other_nonamortizing_features              737770 non-null  int64  \n",
      " 26  construction_method                       737770 non-null  int64  \n",
      " 27  occupancy_type                            737770 non-null  int64  \n",
      " 28  manufactured_home_secured_property_type   737770 non-null  int64  \n",
      " 29  manufactured_home_land_property_interest  737770 non-null  int64  \n",
      " 30  total_units                               737770 non-null  object \n",
      " 31  applicant_credit_score_type               737770 non-null  int64  \n",
      " 32  co-applicant_credit_score_type            737770 non-null  int64  \n",
      " 33  applicant_ethnicity-1                     737770 non-null  float64\n",
      " 34  co-applicant_ethnicity-1                  737770 non-null  float64\n",
      " 35  applicant_ethnicity_observed              737770 non-null  int64  \n",
      " 36  co-applicant_ethnicity_observed           737770 non-null  int64  \n",
      " 37  applicant_race-1                          737770 non-null  float64\n",
      " 38  co-applicant_race-1                       737770 non-null  float64\n",
      " 39  applicant_race_observed                   737770 non-null  int64  \n",
      " 40  co-applicant_race_observed                737770 non-null  int64  \n",
      " 41  applicant_sex                             737770 non-null  int64  \n",
      " 42  co-applicant_sex                          737770 non-null  int64  \n",
      " 43  applicant_sex_observed                    737770 non-null  int64  \n",
      " 44  co-applicant_sex_observed                 737770 non-null  int64  \n",
      " 45  applicant_age                             737770 non-null  object \n",
      " 46  co-applicant_age                          737770 non-null  object \n",
      " 47  applicant_age_above_62                    737770 non-null  object \n",
      " 48  submission_of_application                 737770 non-null  int64  \n",
      " 49  initially_payable_to_institution          737770 non-null  int64  \n",
      " 50  aus-1                                     737770 non-null  int64  \n",
      " 51  denial_reason-1                           737770 non-null  int64  \n",
      " 52  tract_population                          737770 non-null  int64  \n",
      " 53  tract_minority_population_percent         737770 non-null  float64\n",
      " 54  ffiec_msa_md_median_family_income         737770 non-null  int64  \n",
      " 55  tract_to_msa_income_percentage            737770 non-null  int64  \n",
      " 56  tract_owner_occupied_units                737770 non-null  int64  \n",
      " 57  tract_one_to_four_family_homes            737770 non-null  int64  \n",
      " 58  tract_median_age_of_housing_units         737770 non-null  int64  \n",
      "dtypes: float64(8), int64(39), object(12)\n",
      "memory usage: 337.7+ MB\n"
     ]
    }
   ],
   "source": [
    "df.info()"
   ]
  },
  {
   "cell_type": "code",
   "execution_count": 172,
   "metadata": {},
   "outputs": [],
   "source": [
    "unique_counts = pd.DataFrame.from_records([(col, df[col].nunique()) for col in df.columns],\n",
    "                          columns=['Column_Name', 'Num_Unique']).sort_values(by=['Num_Unique'])"
   ]
  },
  {
   "cell_type": "markdown",
   "metadata": {},
   "source": [
    "1 - Loan originated  (means it was accpected and taken)\n",
    "\n",
    "2 - Application approved but not accepted\n",
    "\n",
    "3 - Application denied\n",
    "\n",
    "4 - Application withdrawn by applicant\n",
    "\n",
    "5 - File closed for incompleteness\n",
    "\n",
    "6 - Purchased loan\n",
    "\n",
    "7 - Preapproval request denied\n",
    "\n",
    "8 - Preapproval request approved but not accepted"
   ]
  },
  {
   "cell_type": "code",
   "execution_count": 173,
   "metadata": {},
   "outputs": [
    {
     "name": "stdout",
     "output_type": "stream",
     "text": [
      "Loan originated                                  464207\n",
      "Application withdrawn by applicant               107258\n",
      "Application denied                                76131\n",
      "File closed for incompleteness                    39462\n",
      "Purchased loan                                    34148\n",
      "Application approved but not accepted             16401\n",
      "Preapproval request denied                          123\n",
      "Preapproval request approved but not accepted        40\n",
      "Name: action_taken, dtype: int64\n",
      "1    464207\n",
      "4    107258\n",
      "3     76131\n",
      "5     39462\n",
      "6     34148\n",
      "2     16401\n",
      "7       123\n",
      "8        40\n",
      "Name: action_taken, dtype: int64\n"
     ]
    }
   ],
   "source": [
    "lookup_action_taken = {1:'Loan originated', 2: 'Application approved but not accepted',3:'Application denied',\n",
    "            4:'Application withdrawn by applicant',5:'File closed for incompleteness',6:'Purchased loan',7:'Preapproval request denied',8:\"Preapproval request approved but not accepted\"}\n",
    "print(df.action_taken.map(lookup_action_taken).value_counts())\n",
    "print(df.action_taken.value_counts())"
   ]
  },
  {
   "cell_type": "code",
   "execution_count": 174,
   "metadata": {},
   "outputs": [
    {
     "data": {
      "text/plain": [
       "White                                        329808\n",
       "Race Not Available                            96335\n",
       "Black or African American                     52443\n",
       "Asian                                         44547\n",
       "Joint                                         13254\n",
       "American Indian or Alaska Native               1701\n",
       "2 or more minority races                       1166\n",
       "Native Hawaiian or Other Pacific Islander      1084\n",
       "Name: derived_race, dtype: int64"
      ]
     },
     "execution_count": 174,
     "metadata": {},
     "output_type": "execute_result"
    }
   ],
   "source": [
    "#create a new dataframe where the only values are those that got accepted or denied\n",
    "dfd = df[(df['action_taken']==1) | (df['action_taken']==3)]\n",
    "dfd['derived_race'].value_counts()"
   ]
  },
  {
   "cell_type": "code",
   "execution_count": 175,
   "metadata": {},
   "outputs": [
    {
     "data": {
      "text/plain": [
       "White    329808\n",
       "Black     52443\n",
       "Asian     44547\n",
       "other     17205\n",
       "Name: derived_race, dtype: int64"
      ]
     },
     "execution_count": 175,
     "metadata": {},
     "output_type": "execute_result"
    }
   ],
   "source": [
    "dfd =dfd[(dfd['derived_race']!='Race Not Available')]\n",
    "rows = dfd[(dfd['derived_race']=='American Indian or Alaska Native') | \n",
    "    (dfd['derived_race']=='2 or more minority races') |\n",
    "    (dfd['derived_race']=='Native Hawaiian or Other Pacific Islander') |\n",
    "    (dfd['derived_race']=='Joint')].index\n",
    "dfd.loc[rows,'derived_race']='other'\n",
    "dfd.loc[dfd['derived_race']=='Black or African American','derived_race'] = 'Black'\n",
    "racial_counts = dfd['derived_race'].value_counts()\n",
    "racial_counts"
   ]
  },
  {
   "cell_type": "code",
   "execution_count": 176,
   "metadata": {},
   "outputs": [
    {
     "data": {
      "text/plain": [
       "1    14850\n",
       "3     2355\n",
       "Name: action_taken, dtype: int64"
      ]
     },
     "execution_count": 176,
     "metadata": {},
     "output_type": "execute_result"
    }
   ],
   "source": [
    "dfd['counter'] = 1\n",
    "dfd.loc[dfd['derived_race']=='other','action_taken'].value_counts()"
   ]
  },
  {
   "cell_type": "code",
   "execution_count": 181,
   "metadata": {},
   "outputs": [
    {
     "data": {
      "image/png": "[encoded data removed]",
      "text/plain": [
       "<Figure size 432x288 with 1 Axes>"
      ]
     },
     "metadata": {
      "needs_background": "light"
     },
     "output_type": "display_data"
    },
    {
     "data": {
      "text/plain": [
       "<Figure size 432x288 with 0 Axes>"
      ]
     },
     "metadata": {},
     "output_type": "display_data"
    }
   ],
   "source": [
    "s = (dfd.pivot_table(columns='action_taken', index='derived_race', values='counter', aggfunc='count'))\n",
    "s['denied'] = (s[3]/(s[1]+s[3]))\n",
    "ax = s['denied'].plot.bar()\n",
    "#plt.ylim(0,1)\n",
    "plt.title(\"Percentage of loans denied by race\")\n",
    "plt.ylabel('Percentage')\n",
    "plt.xlabel('Race')\n",
    "plt.show()\n",
    "plt.savefig(\"plots/denied_by_race.png\",dpi=800)"
   ]
  },
  {
   "cell_type": "code",
   "execution_count": 201,
   "metadata": {},
   "outputs": [
    {
     "name": "stderr",
     "output_type": "stream",
     "text": [
      "<ipython-input-201-855442cb4dde>:10: SettingWithCopyWarning: \n",
      "A value is trying to be set on a copy of a slice from a DataFrame.\n",
      "Try using .loc[row_indexer,col_indexer] = value instead\n",
      "\n",
      "See the caveats in the documentation: https://pandas.pydata.org/pandas-docs/stable/user_guide/indexing.html#returning-a-view-versus-a-copy\n",
      "  banks['lei']=banks['lei'].map(lei_lookup)\n"
     ]
    },
    {
     "data": {
      "text/plain": [
       "Rocket Mortgage                 29017\n",
       "Truist Bank                     18842\n",
       "FREEDOM MORTGAGE CORPORATION    17931\n",
       "NAVY FEDERAL CREDIT UNION       14637\n",
       "ATLANTIC BAY MORTGAGE GROUP      9974\n",
       "George Mason Mortgage            8168\n",
       "Name: lei, dtype: int64"
      ]
     },
     "execution_count": 201,
     "metadata": {},
     "output_type": "execute_result"
    }
   ],
   "source": [
    "lei_lookup = {'549300FGXN1K3HLB1R50': 'Rocket Mortgage','JJKC32MCHWDI71265Z06': 'Truist Bank',\n",
    "            '549300LYRWPSYPK6S325':'FREEDOM MORTGAGE CORPORATION','5493003GQDUH26DNNH17':'NAVY FEDERAL CREDIT UNION',\n",
    "            '549300RWXUAFD1WAE410': 'ATLANTIC BAY MORTGAGE GROUP', '2549006II76YXSS5XM65':'George Mason Mortgage'}\n",
    "banks = dfd[(dfd['lei']=='549300FGXN1K3HLB1R50') | \n",
    "    (dfd['lei']=='JJKC32MCHWDI71265Z06')|\n",
    "    (dfd['lei']=='549300LYRWPSYPK6S325') |\n",
    "    (dfd['lei']=='5493003GQDUH26DNNH17') |\n",
    "    (dfd['lei']=='549300RWXUAFD1WAE410') |\n",
    "    (dfd['lei']=='2549006II76YXSS5XM65')]\n",
    "banks['lei']=banks['lei'].map(lei_lookup)    \n",
    "banks['lei'].value_counts()\n"
   ]
  },
  {
   "cell_type": "code",
   "execution_count": 287,
   "metadata": {},
   "outputs": [
    {
     "data": {
      "image/png": "[encoded data removed]",
      "text/plain": [
       "<Figure size 432x288 with 1 Axes>"
      ]
     },
     "metadata": {
      "needs_background": "light"
     },
     "output_type": "display_data"
    }
   ],
   "source": [
    "import seaborn as sns\n",
    "s = (banks.pivot_table(columns='action_taken', index=['lei','derived_race'], values='counter', aggfunc='count'))\n",
    "s=s.fillna(0)\n",
    "s['denied'] = (s[3]/(s[1]+s[3]))\n",
    "out =s.index.to_frame(index=False)\n",
    "out['denied'] = 0\n",
    "for i,val in enumerate(s['denied']):\n",
    "    out.loc[i,'denied']=val\n",
    "\n",
    "sns.barplot(x='lei', y='denied', hue='derived_race', data=out)\n",
    "plt.title(\"Denied by financial insitution\")\n",
    "label = ['ATLANTIC BAY \\nMORTGAGE GROUP', 'Freedom MORTGAGE \\nCORPORATION', \n",
    "    'George Mason \\nMortgage', 'NAVY FEDERAL \\nCREDIT UNION',\n",
    "    'Rocket Mortgage', 'Truist Bank']\n",
    "for i,word in enumerate(label):\n",
    "    label[i] = word.capitalize()\n",
    "plt.xticks([0,1,2,3,4,5],labels=label,rotation=-25,fontsize=9)\n",
    "plt.show()\n",
    "plt.savefig('plots/denied_by_finacial')"
   ]
  },
  {
   "cell_type": "code",
   "execution_count": 255,
   "metadata": {},
   "outputs": [],
   "source": []
  }
 ],
 "metadata": {
  "interpreter": {
   "hash": "4e5f13765c2ff6f84673074b5ec3700e3c7d037891e2e34d5df73cf9f9d373ae"
  },
  "kernelspec": {
   "display_name": "Python 3.9.7 ('base')",
   "language": "python",
   "name": "python3"
  },
  "language_info": {
   "codemirror_mode": {
    "name": "ipython",
    "version": 3
   },
   "file_extension": ".py",
   "mimetype": "text/x-python",
   "name": "python",
   "nbconvert_exporter": "python",
   "pygments_lexer": "ipython3",
   "version": "3.8.8"
  },
  "orig_nbformat": 4
 },
 "nbformat": 4,
 "nbformat_minor": 2
}
